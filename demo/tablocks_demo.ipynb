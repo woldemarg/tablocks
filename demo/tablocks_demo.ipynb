{
  "cells": [
    {
      "cell_type": "code",
      "metadata": {},
      "source": [
        "import math\n",
        "import pandas as pd\n",
        "import numpy as np\n",
        "from sklearn.cluster import KMeans\n",
        "from sklearn.datasets import fetch_openml\n",
        "from sklearn.model_selection import train_test_split\n",
        "from sklearn.impute import SimpleImputer\n",
        "from sklearn.preprocessing import (\n",
        "    normalize,\n",
        "    PowerTransformer,\n",
        "    MinMaxScaler,\n",
        "    OrdinalEncoder)\n",
        "from sklearn.pipeline import Pipeline\n",
        "from sklearn.utils.class_weight import compute_class_weight\n",
        "import tensorflow as tf\n",
        "from prosphera.projector import Projector\n",
        "from tensorflow.keras import layers\n",
        "from src.tablocks import blocks, models, utils\n",
        "import ext.cluster_utils as cluster"
      ],
      "outputs": [],
      "execution_count": null
    },
    {
      "cell_type": "code",
      "metadata": {},
      "source": [
        "\n",
        "# https://www.kaggle.com/c/petfinder-adoption-prediction/discussion/88740\n",
        "# https://arxiv.org/abs/2012.06678\n",
        "\n",
        "# https://keras.io/examples/structured_data/tabtransformer/\n",
        "\n",
        "# https://pyimagesearch.com/2019/10/14/why-is-my-validation-loss-lower-than-my-training-loss/\n",
        "\n",
        "# https://www.kaggle.com/code/wrosinski/baselinemodeling\n",
        "# https://towardsdatascience.com/predicting-adoption-speed-for-petfinder-bb4d5befb78c\n",
        "# https://www.tensorflow.org/tutorials/structured_data/preprocessing_layers\n"
      ],
      "outputs": [],
      "execution_count": null
    },
    {
      "cell_type": "code",
      "metadata": {},
      "source": [
        "\n",
        "RND = 1234\n",
        "tf.random.set_seed(RND)"
      ],
      "outputs": [],
      "execution_count": null
    },
    {
      "cell_type": "code",
      "metadata": {},
      "source": [
        "\n",
        "raw = fetch_openml(name='adult', version=4, parser='auto')\n",
        "# raw = fetch_openml(name='KDDCup09_churn', parser='auto')\n",
        "\n",
        "data, target = (raw['data'], raw['target'])"
      ],
      "outputs": [],
      "execution_count": null
    },
    {
      "cell_type": "code",
      "metadata": {},
      "source": [
        "\n",
        "categorical_cols = (data\n",
        "                    .select_dtypes(exclude=['number'])\n",
        "                    .columns\n",
        "                    .tolist())\n",
        "\n",
        "numerical_cols = (data\n",
        "                  .select_dtypes(include=['number'])\n",
        "                  .columns\n",
        "                  .tolist())"
      ],
      "outputs": [],
      "execution_count": null
    },
    {
      "cell_type": "code",
      "metadata": {},
      "source": [
        "\n",
        "X_train, X_test, y_train, y_test = train_test_split(\n",
        "    data,\n",
        "    target,\n",
        "    test_size=0.3,\n",
        "    random_state=RND)"
      ],
      "outputs": [],
      "execution_count": null
    },
    {
      "cell_type": "code",
      "metadata": {},
      "source": [
        "\n",
        "categorical_transformers = Pipeline([\n",
        "    ('ordinal_encoder',\n",
        "     OrdinalEncoder(\n",
        "         handle_unknown='use_encoded_value',\n",
        "         min_frequency=0.05,\n",
        "         unknown_value=np.nan)),\n",
        "    ('imputer',\n",
        "     SimpleImputer(strategy='most_frequent'))\n",
        "])\n",
        "\n",
        "numerical_transformer = Pipeline([\n",
        "    ('imputer',\n",
        "     SimpleImputer(strategy='mean')),\n",
        "    ('power_transform',\n",
        "     PowerTransformer()),\n",
        "    ('scaler',\n",
        "     MinMaxScaler())\n",
        "])"
      ],
      "outputs": [],
      "execution_count": null
    },
    {
      "cell_type": "code",
      "metadata": {},
      "source": [
        "\n",
        "cats_transformed = pd.DataFrame(\n",
        "    (categorical_transformers\n",
        "     .fit_transform(X_train[categorical_cols])),\n",
        "    columns=categorical_cols)\n",
        "\n",
        "nums_transformed = (numerical_transformer\n",
        "                    .fit_transform(X_train[numerical_cols]))"
      ],
      "outputs": [],
      "execution_count": null
    },
    {
      "cell_type": "code",
      "metadata": {},
      "source": [
        "\n",
        "cats_length = cats_transformed.nunique()\n",
        "nums_length = nums_transformed.shape[1]"
      ],
      "outputs": [],
      "execution_count": null
    },
    {
      "cell_type": "code",
      "metadata": {},
      "source": [
        "\n",
        "enc_vecs_dim = min(2**math.ceil(math.log2(data.shape[1])), 64)\n",
        "numerics_dim = min(2**math.ceil(math.log2(8 * nums_length)), 1024)"
      ],
      "outputs": [],
      "execution_count": null
    },
    {
      "cell_type": "code",
      "metadata": {},
      "source": [
        "\n",
        "params = {\n",
        "    'cats_embedding_dim': 32,\n",
        "    'nums_dim': numerics_dim,\n",
        "    'mha_block_num_heads': 4,\n",
        "    'mha_num_blocks': 2,\n",
        "    'dropout_rate': 0.1,\n",
        "    'enc_dec_num_steps': 4,\n",
        "    'enc_vecs_dim': enc_vecs_dim\n",
        "}"
      ],
      "outputs": [],
      "execution_count": null
    },
    {
      "cell_type": "code",
      "metadata": {},
      "source": [
        "\n",
        "autoencoder = models.BaseAutoEncoder(\n",
        "    cats_length=cats_length,\n",
        "    nums_length=nums_length,\n",
        "    **params)"
      ],
      "outputs": [],
      "execution_count": null
    },
    {
      "cell_type": "code",
      "metadata": {},
      "source": [
        "\n",
        "base_learning_rate = 1e-3\n",
        "num_epchs = 25\n",
        "batch_size = 128"
      ],
      "outputs": [],
      "execution_count": null
    },
    {
      "cell_type": "code",
      "metadata": {},
      "source": [
        "\n",
        "loss_weights = utils.calculate_weights(\n",
        "    cats_transformed,\n",
        "    nums_transformed)"
      ],
      "outputs": [],
      "execution_count": null
    },
    {
      "cell_type": "code",
      "metadata": {},
      "source": [
        "\n",
        "autoencoder.compile(\n",
        "    optimizer=tf.keras.optimizers.Adam(\n",
        "        learning_rate=base_learning_rate),\n",
        "    loss=['sparse_categorical_crossentropy'] * cats_length.shape[0] + ['mae'],\n",
        "    loss_weights=loss_weights)"
      ],
      "outputs": [],
      "execution_count": null
    },
    {
      "cell_type": "code",
      "metadata": {},
      "source": [
        "\n",
        "loss_callback = utils.CustomLoggingCallback()\n",
        "\n",
        "stop_callback = tf.keras.callbacks.EarlyStopping(\n",
        "    monitor='val_loss',\n",
        "    patience=3,\n",
        "    min_delta=0.01,\n",
        "    restore_best_weights=True)"
      ],
      "outputs": [],
      "execution_count": null
    },
    {
      "cell_type": "code",
      "metadata": {},
      "source": [
        "\n",
        "train_set = [s for _, s in cats_transformed.items()] + [nums_transformed]"
      ],
      "outputs": [],
      "execution_count": null
    },
    {
      "cell_type": "code",
      "metadata": {},
      "source": [
        "\n",
        "aue_history = autoencoder.fit(\n",
        "    x=train_set,\n",
        "    y=train_set,\n",
        "    epochs=num_epchs,\n",
        "    batch_size=batch_size,\n",
        "    validation_split=0.2,\n",
        "    verbose=0,\n",
        "    callbacks=[loss_callback, stop_callback])"
      ],
      "outputs": [],
      "execution_count": null
    },
    {
      "cell_type": "code",
      "metadata": {},
      "source": [
        "\n",
        "# autoencoder.summary()"
      ],
      "outputs": [],
      "execution_count": null
    },
    {
      "cell_type": "code",
      "metadata": {},
      "source": [
        "\n",
        "extractor = models.BaseExtractor(autoencoder)\n",
        "extractor.trainable = False"
      ],
      "outputs": [],
      "execution_count": null
    },
    {
      "cell_type": "code",
      "metadata": {},
      "source": [
        "\n",
        "train_encoded = extractor.predict(train_set)\n",
        "train_encoded_norm = normalize(train_encoded)"
      ],
      "outputs": [],
      "execution_count": null
    },
    {
      "cell_type": "code",
      "metadata": {},
      "source": [
        "\n",
        "optimal_clusters = cluster.find_optimal_clusters(train_encoded_norm)"
      ],
      "outputs": [],
      "execution_count": null
    },
    {
      "cell_type": "code",
      "metadata": {},
      "source": [
        "\n",
        "kmeans = KMeans(\n",
        "    n_clusters=optimal_clusters,\n",
        "    random_state=RND,\n",
        "    n_init='auto')\n",
        "\n",
        "kmeans.fit(train_encoded_norm)\n",
        "\n",
        "labels = kmeans.labels_"
      ],
      "outputs": [],
      "execution_count": null
    },
    {
      "cell_type": "code",
      "metadata": {},
      "source": [
        "\n",
        "inputs = autoencoder.inputs\n",
        "\n",
        "x = extractor(inputs, training=False)\n",
        "\n",
        "x = blocks.MLPBlock(\n",
        "    units_lst=[x.shape[1] * 2, x.shape[1]],\n",
        "    normalization_layer=layers.BatchNormalization(),\n",
        "    dr_rate=0.1,\n",
        "    name='encoder')(x)\n",
        "\n",
        "outputs = layers.Dense(optimal_clusters, activation='softmax')(x)\n",
        "\n",
        "classifier = tf.keras.Model(inputs, outputs)\n",
        "\n",
        "classifier.compile(\n",
        "    loss='sparse_categorical_crossentropy',\n",
        "    optimizer=tf.keras.optimizers.Adam(\n",
        "        learning_rate=base_learning_rate),\n",
        "    metrics=['accuracy'])"
      ],
      "outputs": [],
      "execution_count": null
    },
    {
      "cell_type": "code",
      "metadata": {},
      "source": [
        "\n",
        "classifier.summary()"
      ],
      "outputs": [],
      "execution_count": null
    },
    {
      "cell_type": "code",
      "metadata": {},
      "source": [
        "\n",
        "class_weights = compute_class_weight(\n",
        "    'balanced',\n",
        "    classes=pd.Series(labels).unique(),\n",
        "    y=labels)\n",
        "\n",
        "class_weights_dct = dict(zip(\n",
        "    pd.Series(labels).unique(),\n",
        "    class_weights))"
      ],
      "outputs": [],
      "execution_count": null
    },
    {
      "cell_type": "code",
      "metadata": {},
      "source": [
        "\n",
        "clf_history = classifier.fit(\n",
        "    x=train_set,\n",
        "    y=labels,\n",
        "    epochs=num_epchs,\n",
        "    validation_split=0.2,\n",
        "    class_weight=class_weights_dct,\n",
        "    callbacks=[stop_callback]\n",
        ")"
      ],
      "outputs": [],
      "execution_count": null
    },
    {
      "cell_type": "code",
      "metadata": {},
      "source": [
        "\n",
        "extractor.trainable = True\n",
        "\n",
        "classifier.compile(\n",
        "    loss='sparse_categorical_crossentropy',\n",
        "    optimizer=tf.keras.optimizers.Adam(\n",
        "        learning_rate=base_learning_rate / 10),\n",
        "    metrics=['accuracy'])"
      ],
      "outputs": [],
      "execution_count": null
    },
    {
      "cell_type": "code",
      "metadata": {},
      "source": [
        "\n",
        "classifier.summary()"
      ],
      "outputs": [],
      "execution_count": null
    },
    {
      "cell_type": "code",
      "metadata": {},
      "source": [
        "\n",
        "clf_history_tune = classifier.fit(\n",
        "    x=train_set,\n",
        "    y=labels,\n",
        "    epochs=num_epchs,\n",
        "    initial_epoch=clf_history.epoch[-1],\n",
        "    validation_split=0.2,\n",
        "    class_weight=class_weights_dct,\n",
        "    callbacks=[stop_callback]\n",
        ")"
      ],
      "outputs": [],
      "execution_count": null
    },
    {
      "cell_type": "code",
      "metadata": {},
      "source": [
        "\n",
        "extractor_tuned = tf.keras.Model(\n",
        "    inputs=classifier.input,\n",
        "    outputs=classifier.get_layer('encoder').output)"
      ],
      "outputs": [],
      "execution_count": null
    },
    {
      "cell_type": "code",
      "metadata": {},
      "source": [
        "\n",
        "cats_transformed_test = pd.DataFrame(\n",
        "    (categorical_transformers\n",
        "     .transform(X_test[categorical_cols])),\n",
        "    columns=categorical_cols)\n",
        "\n",
        "nums_transformed_test = (numerical_transformer\n",
        "                         .transform(X_test[numerical_cols]))\n",
        "\n",
        "test_set = [s for _, s in cats_transformed_test.items()] + \\\n",
        "    [nums_transformed_test]"
      ],
      "outputs": [],
      "execution_count": null
    },
    {
      "cell_type": "code",
      "metadata": {},
      "source": [
        "\n",
        "test_cls = np.argmax(classifier.predict(test_set), axis=1)\n",
        "test_vec = extractor_tuned.predict(test_set)"
      ],
      "outputs": [],
      "execution_count": null
    },
    {
      "cell_type": "code",
      "metadata": {},
      "source": [
        "\n",
        "visualizer = Projector()"
      ],
      "outputs": [],
      "execution_count": null
    },
    {
      "cell_type": "code",
      "metadata": {},
      "source": [
        "\n",
        "visualizer.project(\n",
        "    data=test_vec,\n",
        "    labels=test_cls\n",
        ")\n"
      ],
      "outputs": [],
      "execution_count": null
    }
  ],
  "metadata": {
    "anaconda-cloud": {},
    "kernelspec": {
      "display_name": "Python 3",
      "language": "python",
      "name": "python3"
    },
    "language_info": {
      "codemirror_mode": {
        "name": "ipython",
        "version": 3
      },
      "file_extension": ".py",
      "mimetype": "text/x-python",
      "name": "python",
      "nbconvert_exporter": "python",
      "pygments_lexer": "ipython3",
      "version": "3.6.1"
    }
  },
  "nbformat": 4,
  "nbformat_minor": 4
}